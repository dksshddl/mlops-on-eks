{
 "cells": [
  {
   "cell_type": "code",
   "execution_count": null,
   "metadata": {},
   "outputs": [],
   "source": [
    "import base64\n",
    "import string\n",
    "import os\n",
    "\n",
    "import boto3\n",
    "from botocore.config import Config\n",
    "\n",
    "def login_to_ecr():\n",
    "    try:\n",
    "        os.environ[\"AWS_DEFAULT_REGION\"] = \"ap-northeast-2\"\n",
    "        # ECR 클라이언트 생성\n",
    "        ecr_client = boto3.client('ecr')\n",
    "        \n",
    "        # 인증 토큰 가져오기\n",
    "        response = ecr_client.get_authorization_token()\n",
    "        \n",
    "        # 인증 토큰 디코딩\n",
    "        auth_token = response['authorizationData'][0]['authorizationToken']\n",
    "        # decoded_auth_token = base64.b64decode(auth_token).decode('utf-8')\n",
    "        # username, password = decoded_auth_token.split(':')\n",
    "        \n",
    "        # 레지스트리 엔드포인트 \n",
    "        registry_url = response['authorizationData'][0]['proxyEndpoint']\n",
    "\n",
    "        os.environ[\"CONTAINER_REGISTRY\"] = registry_url\n",
    "        os.environ[\"CONTAINER_REGISTRY_CREDS\"] = auth_token\n",
    "\n",
    "        kaniko_auth = string.Template('{\"auths\":{\"$CONTAINER_REGISTRY\":{\"auth\":\"$CONTAINER_REGISTRY_CREDS\"}}}').substitute(os.environ)\n",
    "\n",
    "        # Docker 로그인\n",
    "        print(kaniko_auth)\n",
    "        with open(\"/kaniko/.docker/config.json\", \"w\") as f:\n",
    "            f.write(kaniko_auth)\n",
    "        print(\"Successfully logged in to ECR\")\n",
    "        return True\n",
    "        \n",
    "    except Exception as e:\n",
    "        print(f\"Error logging in to ECR: {str(e)}\")\n",
    "        return False\n",
    "\n",
    "def build_push_image():\n",
    "    container_location = string.Template(\"$CONTAINER_REGISTRY/$CONTAINER_DETAILS\").substitute(os.environ)\n",
    "    \n",
    "    #For docker repo, do not include the registry domain name in container location\n",
    "    if os.environ[\"CONTAINER_REGISTRY\"].find(\"docker.io\") != -1:\n",
    "        container_location= os.environ[\"CONTAINER_DETAILS\"]\n",
    "        \n",
    "    full_command = \"/kaniko/executor --context=\" + os.getcwd() + \" --dockerfile=Dockerfile --verbosity=debug --cache=true --single-snapshot=true --destination=\" + container_location\n",
    "    print(full_command)\n",
    "    # process = subprocess.run(full_command, shell=True, check=True, stdout=subprocess.PIPE, stderr=subprocess.PIPE)\n",
    "    # print(process.stdout)\n",
    "    # print(process.stderr)"
   ]
  },
  {
   "cell_type": "code",
   "execution_count": 18,
   "metadata": {},
   "outputs": [
    {
     "name": "stdout",
     "output_type": "stream",
     "text": [
      "{\"auths\":{\"https://013596862746.dkr.ecr.ap-northeast-2.amazonaws.com\":{\"auth\":\"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\"}}}\n",
      "Error logging in to ECR: [Errno 2] No such file or directory: '/kaniko/.docker/config.json'\n"
     ]
    },
    {
     "data": {
      "text/plain": [
       "False"
      ]
     },
     "execution_count": 18,
     "metadata": {},
     "output_type": "execute_result"
    }
   ],
   "source": [
    "login_to_ecr()"
   ]
  }
 ],
 "metadata": {
  "kernelspec": {
   "display_name": "Python 3 (ipykernel)",
   "language": "python",
   "name": "python3"
  }
 },
 "nbformat": 4,
 "nbformat_minor": 2
}
