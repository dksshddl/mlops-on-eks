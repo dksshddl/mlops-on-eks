{
 "cells": [
  {
   "cell_type": "code",
   "execution_count": 1,
   "metadata": {},
   "outputs": [],
   "source": [
    "import numpy as np"
   ]
  },
  {
   "cell_type": "code",
   "execution_count": 2,
   "metadata": {},
   "outputs": [
    {
     "name": "stdout",
     "output_type": "stream",
     "text": [
      "Defaulting to user installation because normal site-packages is not writeable\n",
      "Collecting jupyterlab-lsp\n",
      "  Downloading jupyterlab_lsp-5.1.0-py3-none-any.whl.metadata (12 kB)\n",
      "Collecting python-lsp-server\n",
      "  Downloading python_lsp_server-1.12.2-py3-none-any.whl.metadata (10 kB)\n",
      "Requirement already satisfied: jupyter-lsp>=2.0.0 in /usr/local/lib/python3.12/site-packages (from jupyterlab-lsp) (2.2.5)\n",
      "Requirement already satisfied: jupyterlab<5.0.0a0,>=4.1.0 in /usr/local/lib/python3.12/site-packages (from jupyterlab-lsp) (4.3.4)\n",
      "Collecting docstring-to-markdown (from python-lsp-server)\n",
      "  Downloading docstring_to_markdown-0.15-py3-none-any.whl.metadata (2.0 kB)\n",
      "Requirement already satisfied: jedi<0.20.0,>=0.17.2 in /usr/local/lib/python3.12/site-packages (from python-lsp-server) (0.19.2)\n",
      "Collecting pluggy>=1.0.0 (from python-lsp-server)\n",
      "  Downloading pluggy-1.5.0-py3-none-any.whl.metadata (4.8 kB)\n",
      "Collecting python-lsp-jsonrpc<2.0.0,>=1.1.0 (from python-lsp-server)\n",
      "  Downloading python_lsp_jsonrpc-1.1.2-py3-none-any.whl.metadata (1.5 kB)\n",
      "Collecting ujson>=3.0.0 (from python-lsp-server)\n",
      "  Downloading ujson-5.10.0-cp312-cp312-manylinux_2_17_x86_64.manylinux2014_x86_64.whl.metadata (9.3 kB)\n",
      "Requirement already satisfied: parso<0.9.0,>=0.8.4 in /usr/local/lib/python3.12/site-packages (from jedi<0.20.0,>=0.17.2->python-lsp-server) (0.8.4)\n",
      "Requirement already satisfied: jupyter-server>=1.1.2 in /usr/local/lib/python3.12/site-packages (from jupyter-lsp>=2.0.0->jupyterlab-lsp) (2.15.0)\n",
      "Requirement already satisfied: async-lru>=1.0.0 in /usr/local/lib/python3.12/site-packages (from jupyterlab<5.0.0a0,>=4.1.0->jupyterlab-lsp) (2.0.4)\n",
      "Requirement already satisfied: httpx>=0.25.0 in /usr/local/lib/python3.12/site-packages (from jupyterlab<5.0.0a0,>=4.1.0->jupyterlab-lsp) (0.28.1)\n",
      "Requirement already satisfied: ipykernel>=6.5.0 in /usr/local/lib/python3.12/site-packages (from jupyterlab<5.0.0a0,>=4.1.0->jupyterlab-lsp) (6.29.5)\n",
      "Requirement already satisfied: jinja2>=3.0.3 in /usr/local/lib/python3.12/site-packages (from jupyterlab<5.0.0a0,>=4.1.0->jupyterlab-lsp) (3.1.5)\n",
      "Requirement already satisfied: jupyter-core in /usr/local/lib/python3.12/site-packages (from jupyterlab<5.0.0a0,>=4.1.0->jupyterlab-lsp) (5.7.2)\n",
      "Requirement already satisfied: jupyterlab-server<3,>=2.27.1 in /usr/local/lib/python3.12/site-packages (from jupyterlab<5.0.0a0,>=4.1.0->jupyterlab-lsp) (2.27.3)\n",
      "Requirement already satisfied: notebook-shim>=0.2 in /usr/local/lib/python3.12/site-packages (from jupyterlab<5.0.0a0,>=4.1.0->jupyterlab-lsp) (0.2.4)\n",
      "Requirement already satisfied: packaging in /usr/local/lib/python3.12/site-packages (from jupyterlab<5.0.0a0,>=4.1.0->jupyterlab-lsp) (24.2)\n",
      "Requirement already satisfied: setuptools>=40.8.0 in /usr/local/lib/python3.12/site-packages (from jupyterlab<5.0.0a0,>=4.1.0->jupyterlab-lsp) (75.8.0)\n",
      "Requirement already satisfied: tornado>=6.2.0 in /usr/local/lib/python3.12/site-packages (from jupyterlab<5.0.0a0,>=4.1.0->jupyterlab-lsp) (6.4.2)\n",
      "Requirement already satisfied: traitlets in /usr/local/lib/python3.12/site-packages (from jupyterlab<5.0.0a0,>=4.1.0->jupyterlab-lsp) (5.14.3)\n",
      "Requirement already satisfied: anyio in /usr/local/lib/python3.12/site-packages (from httpx>=0.25.0->jupyterlab<5.0.0a0,>=4.1.0->jupyterlab-lsp) (4.8.0)\n",
      "Requirement already satisfied: certifi in /usr/local/lib/python3.12/site-packages (from httpx>=0.25.0->jupyterlab<5.0.0a0,>=4.1.0->jupyterlab-lsp) (2024.12.14)\n",
      "Requirement already satisfied: httpcore==1.* in /usr/local/lib/python3.12/site-packages (from httpx>=0.25.0->jupyterlab<5.0.0a0,>=4.1.0->jupyterlab-lsp) (1.0.7)\n",
      "Requirement already satisfied: idna in /usr/local/lib/python3.12/site-packages (from httpx>=0.25.0->jupyterlab<5.0.0a0,>=4.1.0->jupyterlab-lsp) (3.10)\n",
      "Requirement already satisfied: h11<0.15,>=0.13 in /usr/local/lib/python3.12/site-packages (from httpcore==1.*->httpx>=0.25.0->jupyterlab<5.0.0a0,>=4.1.0->jupyterlab-lsp) (0.14.0)\n",
      "Requirement already satisfied: comm>=0.1.1 in /usr/local/lib/python3.12/site-packages (from ipykernel>=6.5.0->jupyterlab<5.0.0a0,>=4.1.0->jupyterlab-lsp) (0.2.2)\n",
      "Requirement already satisfied: debugpy>=1.6.5 in /usr/local/lib/python3.12/site-packages (from ipykernel>=6.5.0->jupyterlab<5.0.0a0,>=4.1.0->jupyterlab-lsp) (1.8.11)\n",
      "Requirement already satisfied: ipython>=7.23.1 in /usr/local/lib/python3.12/site-packages (from ipykernel>=6.5.0->jupyterlab<5.0.0a0,>=4.1.0->jupyterlab-lsp) (8.31.0)\n",
      "Requirement already satisfied: jupyter-client>=6.1.12 in /usr/local/lib/python3.12/site-packages (from ipykernel>=6.5.0->jupyterlab<5.0.0a0,>=4.1.0->jupyterlab-lsp) (8.6.3)\n",
      "Requirement already satisfied: matplotlib-inline>=0.1 in /usr/local/lib/python3.12/site-packages (from ipykernel>=6.5.0->jupyterlab<5.0.0a0,>=4.1.0->jupyterlab-lsp) (0.1.7)\n",
      "Requirement already satisfied: nest-asyncio in /usr/local/lib/python3.12/site-packages (from ipykernel>=6.5.0->jupyterlab<5.0.0a0,>=4.1.0->jupyterlab-lsp) (1.6.0)\n",
      "Requirement already satisfied: psutil in /usr/local/lib/python3.12/site-packages (from ipykernel>=6.5.0->jupyterlab<5.0.0a0,>=4.1.0->jupyterlab-lsp) (6.1.1)\n",
      "Requirement already satisfied: pyzmq>=24 in /usr/local/lib/python3.12/site-packages (from ipykernel>=6.5.0->jupyterlab<5.0.0a0,>=4.1.0->jupyterlab-lsp) (26.2.0)\n",
      "Requirement already satisfied: MarkupSafe>=2.0 in /usr/local/lib/python3.12/site-packages (from jinja2>=3.0.3->jupyterlab<5.0.0a0,>=4.1.0->jupyterlab-lsp) (3.0.2)\n",
      "Requirement already satisfied: platformdirs>=2.5 in /usr/local/lib/python3.12/site-packages (from jupyter-core->jupyterlab<5.0.0a0,>=4.1.0->jupyterlab-lsp) (4.3.6)\n",
      "Requirement already satisfied: argon2-cffi>=21.1 in /usr/local/lib/python3.12/site-packages (from jupyter-server>=1.1.2->jupyter-lsp>=2.0.0->jupyterlab-lsp) (23.1.0)\n",
      "Requirement already satisfied: jupyter-events>=0.11.0 in /usr/local/lib/python3.12/site-packages (from jupyter-server>=1.1.2->jupyter-lsp>=2.0.0->jupyterlab-lsp) (0.11.0)\n",
      "Requirement already satisfied: jupyter-server-terminals>=0.4.4 in /usr/local/lib/python3.12/site-packages (from jupyter-server>=1.1.2->jupyter-lsp>=2.0.0->jupyterlab-lsp) (0.5.3)\n",
      "Requirement already satisfied: nbconvert>=6.4.4 in /usr/local/lib/python3.12/site-packages (from jupyter-server>=1.1.2->jupyter-lsp>=2.0.0->jupyterlab-lsp) (7.16.5)\n",
      "Requirement already satisfied: nbformat>=5.3.0 in /usr/local/lib/python3.12/site-packages (from jupyter-server>=1.1.2->jupyter-lsp>=2.0.0->jupyterlab-lsp) (5.10.4)\n",
      "Requirement already satisfied: overrides>=5.0 in /usr/local/lib/python3.12/site-packages (from jupyter-server>=1.1.2->jupyter-lsp>=2.0.0->jupyterlab-lsp) (7.7.0)\n",
      "Requirement already satisfied: prometheus-client>=0.9 in /usr/local/lib/python3.12/site-packages (from jupyter-server>=1.1.2->jupyter-lsp>=2.0.0->jupyterlab-lsp) (0.21.1)\n",
      "Requirement already satisfied: send2trash>=1.8.2 in /usr/local/lib/python3.12/site-packages (from jupyter-server>=1.1.2->jupyter-lsp>=2.0.0->jupyterlab-lsp) (1.8.3)\n",
      "Requirement already satisfied: terminado>=0.8.3 in /usr/local/lib/python3.12/site-packages (from jupyter-server>=1.1.2->jupyter-lsp>=2.0.0->jupyterlab-lsp) (0.18.1)\n",
      "Requirement already satisfied: websocket-client>=1.7 in /usr/local/lib/python3.12/site-packages (from jupyter-server>=1.1.2->jupyter-lsp>=2.0.0->jupyterlab-lsp) (1.8.0)\n",
      "Requirement already satisfied: babel>=2.10 in /usr/local/lib/python3.12/site-packages (from jupyterlab-server<3,>=2.27.1->jupyterlab<5.0.0a0,>=4.1.0->jupyterlab-lsp) (2.16.0)\n",
      "Requirement already satisfied: json5>=0.9.0 in /usr/local/lib/python3.12/site-packages (from jupyterlab-server<3,>=2.27.1->jupyterlab<5.0.0a0,>=4.1.0->jupyterlab-lsp) (0.10.0)\n",
      "Requirement already satisfied: jsonschema>=4.18.0 in /usr/local/lib/python3.12/site-packages (from jupyterlab-server<3,>=2.27.1->jupyterlab<5.0.0a0,>=4.1.0->jupyterlab-lsp) (4.23.0)\n",
      "Requirement already satisfied: requests>=2.31 in /usr/local/lib/python3.12/site-packages (from jupyterlab-server<3,>=2.27.1->jupyterlab<5.0.0a0,>=4.1.0->jupyterlab-lsp) (2.32.3)\n",
      "Requirement already satisfied: sniffio>=1.1 in /usr/local/lib/python3.12/site-packages (from anyio->httpx>=0.25.0->jupyterlab<5.0.0a0,>=4.1.0->jupyterlab-lsp) (1.3.1)\n",
      "Requirement already satisfied: typing_extensions>=4.5 in /usr/local/lib/python3.12/site-packages (from anyio->httpx>=0.25.0->jupyterlab<5.0.0a0,>=4.1.0->jupyterlab-lsp) (4.12.2)\n",
      "Requirement already satisfied: argon2-cffi-bindings in /usr/local/lib/python3.12/site-packages (from argon2-cffi>=21.1->jupyter-server>=1.1.2->jupyter-lsp>=2.0.0->jupyterlab-lsp) (21.2.0)\n",
      "Requirement already satisfied: decorator in /usr/local/lib/python3.12/site-packages (from ipython>=7.23.1->ipykernel>=6.5.0->jupyterlab<5.0.0a0,>=4.1.0->jupyterlab-lsp) (5.1.1)\n",
      "Requirement already satisfied: pexpect>4.3 in /usr/local/lib/python3.12/site-packages (from ipython>=7.23.1->ipykernel>=6.5.0->jupyterlab<5.0.0a0,>=4.1.0->jupyterlab-lsp) (4.9.0)\n",
      "Requirement already satisfied: prompt_toolkit<3.1.0,>=3.0.41 in /usr/local/lib/python3.12/site-packages (from ipython>=7.23.1->ipykernel>=6.5.0->jupyterlab<5.0.0a0,>=4.1.0->jupyterlab-lsp) (3.0.48)\n",
      "Requirement already satisfied: pygments>=2.4.0 in /usr/local/lib/python3.12/site-packages (from ipython>=7.23.1->ipykernel>=6.5.0->jupyterlab<5.0.0a0,>=4.1.0->jupyterlab-lsp) (2.19.1)\n",
      "Requirement already satisfied: stack_data in /usr/local/lib/python3.12/site-packages (from ipython>=7.23.1->ipykernel>=6.5.0->jupyterlab<5.0.0a0,>=4.1.0->jupyterlab-lsp) (0.6.3)\n",
      "Requirement already satisfied: attrs>=22.2.0 in /usr/local/lib/python3.12/site-packages (from jsonschema>=4.18.0->jupyterlab-server<3,>=2.27.1->jupyterlab<5.0.0a0,>=4.1.0->jupyterlab-lsp) (24.3.0)\n",
      "Requirement already satisfied: jsonschema-specifications>=2023.03.6 in /usr/local/lib/python3.12/site-packages (from jsonschema>=4.18.0->jupyterlab-server<3,>=2.27.1->jupyterlab<5.0.0a0,>=4.1.0->jupyterlab-lsp) (2024.10.1)\n",
      "Requirement already satisfied: referencing>=0.28.4 in /usr/local/lib/python3.12/site-packages (from jsonschema>=4.18.0->jupyterlab-server<3,>=2.27.1->jupyterlab<5.0.0a0,>=4.1.0->jupyterlab-lsp) (0.35.1)\n",
      "Requirement already satisfied: rpds-py>=0.7.1 in /usr/local/lib/python3.12/site-packages (from jsonschema>=4.18.0->jupyterlab-server<3,>=2.27.1->jupyterlab<5.0.0a0,>=4.1.0->jupyterlab-lsp) (0.22.3)\n",
      "Requirement already satisfied: python-dateutil>=2.8.2 in /usr/local/lib/python3.12/site-packages (from jupyter-client>=6.1.12->ipykernel>=6.5.0->jupyterlab<5.0.0a0,>=4.1.0->jupyterlab-lsp) (2.9.0.post0)\n",
      "Requirement already satisfied: python-json-logger>=2.0.4 in /usr/local/lib/python3.12/site-packages (from jupyter-events>=0.11.0->jupyter-server>=1.1.2->jupyter-lsp>=2.0.0->jupyterlab-lsp) (3.2.1)\n",
      "Requirement already satisfied: pyyaml>=5.3 in /usr/local/lib/python3.12/site-packages (from jupyter-events>=0.11.0->jupyter-server>=1.1.2->jupyter-lsp>=2.0.0->jupyterlab-lsp) (6.0.2)\n",
      "Requirement already satisfied: rfc3339-validator in /usr/local/lib/python3.12/site-packages (from jupyter-events>=0.11.0->jupyter-server>=1.1.2->jupyter-lsp>=2.0.0->jupyterlab-lsp) (0.1.4)\n",
      "Requirement already satisfied: rfc3986-validator>=0.1.1 in /usr/local/lib/python3.12/site-packages (from jupyter-events>=0.11.0->jupyter-server>=1.1.2->jupyter-lsp>=2.0.0->jupyterlab-lsp) (0.1.1)\n",
      "Requirement already satisfied: beautifulsoup4 in /usr/local/lib/python3.12/site-packages (from nbconvert>=6.4.4->jupyter-server>=1.1.2->jupyter-lsp>=2.0.0->jupyterlab-lsp) (4.12.3)\n",
      "Requirement already satisfied: bleach!=5.0.0 in /usr/local/lib/python3.12/site-packages (from bleach[css]!=5.0.0->nbconvert>=6.4.4->jupyter-server>=1.1.2->jupyter-lsp>=2.0.0->jupyterlab-lsp) (6.2.0)\n",
      "Requirement already satisfied: defusedxml in /usr/local/lib/python3.12/site-packages (from nbconvert>=6.4.4->jupyter-server>=1.1.2->jupyter-lsp>=2.0.0->jupyterlab-lsp) (0.7.1)\n",
      "Requirement already satisfied: jupyterlab-pygments in /usr/local/lib/python3.12/site-packages (from nbconvert>=6.4.4->jupyter-server>=1.1.2->jupyter-lsp>=2.0.0->jupyterlab-lsp) (0.3.0)\n",
      "Requirement already satisfied: mistune<4,>=2.0.3 in /usr/local/lib/python3.12/site-packages (from nbconvert>=6.4.4->jupyter-server>=1.1.2->jupyter-lsp>=2.0.0->jupyterlab-lsp) (3.1.0)\n",
      "Requirement already satisfied: nbclient>=0.5.0 in /usr/local/lib/python3.12/site-packages (from nbconvert>=6.4.4->jupyter-server>=1.1.2->jupyter-lsp>=2.0.0->jupyterlab-lsp) (0.10.2)\n",
      "Requirement already satisfied: pandocfilters>=1.4.1 in /usr/local/lib/python3.12/site-packages (from nbconvert>=6.4.4->jupyter-server>=1.1.2->jupyter-lsp>=2.0.0->jupyterlab-lsp) (1.5.1)\n",
      "Requirement already satisfied: fastjsonschema>=2.15 in /usr/local/lib/python3.12/site-packages (from nbformat>=5.3.0->jupyter-server>=1.1.2->jupyter-lsp>=2.0.0->jupyterlab-lsp) (2.21.1)\n",
      "Requirement already satisfied: charset-normalizer<4,>=2 in /usr/local/lib/python3.12/site-packages (from requests>=2.31->jupyterlab-server<3,>=2.27.1->jupyterlab<5.0.0a0,>=4.1.0->jupyterlab-lsp) (3.4.1)\n",
      "Requirement already satisfied: urllib3<3,>=1.21.1 in /usr/local/lib/python3.12/site-packages (from requests>=2.31->jupyterlab-server<3,>=2.27.1->jupyterlab<5.0.0a0,>=4.1.0->jupyterlab-lsp) (2.3.0)\n",
      "Requirement already satisfied: ptyprocess in /usr/local/lib/python3.12/site-packages (from terminado>=0.8.3->jupyter-server>=1.1.2->jupyter-lsp>=2.0.0->jupyterlab-lsp) (0.7.0)\n",
      "Requirement already satisfied: webencodings in /usr/local/lib/python3.12/site-packages (from bleach!=5.0.0->bleach[css]!=5.0.0->nbconvert>=6.4.4->jupyter-server>=1.1.2->jupyter-lsp>=2.0.0->jupyterlab-lsp) (0.5.1)\n",
      "Requirement already satisfied: tinycss2<1.5,>=1.1.0 in /usr/local/lib/python3.12/site-packages (from bleach[css]!=5.0.0->nbconvert>=6.4.4->jupyter-server>=1.1.2->jupyter-lsp>=2.0.0->jupyterlab-lsp) (1.4.0)\n",
      "Requirement already satisfied: fqdn in /usr/local/lib/python3.12/site-packages (from jsonschema[format-nongpl]>=4.18.0->jupyter-events>=0.11.0->jupyter-server>=1.1.2->jupyter-lsp>=2.0.0->jupyterlab-lsp) (1.5.1)\n",
      "Requirement already satisfied: isoduration in /usr/local/lib/python3.12/site-packages (from jsonschema[format-nongpl]>=4.18.0->jupyter-events>=0.11.0->jupyter-server>=1.1.2->jupyter-lsp>=2.0.0->jupyterlab-lsp) (20.11.0)\n",
      "Requirement already satisfied: jsonpointer>1.13 in /usr/local/lib/python3.12/site-packages (from jsonschema[format-nongpl]>=4.18.0->jupyter-events>=0.11.0->jupyter-server>=1.1.2->jupyter-lsp>=2.0.0->jupyterlab-lsp) (3.0.0)\n",
      "Requirement already satisfied: uri-template in /usr/local/lib/python3.12/site-packages (from jsonschema[format-nongpl]>=4.18.0->jupyter-events>=0.11.0->jupyter-server>=1.1.2->jupyter-lsp>=2.0.0->jupyterlab-lsp) (1.3.0)\n",
      "Requirement already satisfied: webcolors>=24.6.0 in /usr/local/lib/python3.12/site-packages (from jsonschema[format-nongpl]>=4.18.0->jupyter-events>=0.11.0->jupyter-server>=1.1.2->jupyter-lsp>=2.0.0->jupyterlab-lsp) (24.11.1)\n",
      "Requirement already satisfied: wcwidth in /usr/local/lib/python3.12/site-packages (from prompt_toolkit<3.1.0,>=3.0.41->ipython>=7.23.1->ipykernel>=6.5.0->jupyterlab<5.0.0a0,>=4.1.0->jupyterlab-lsp) (0.2.13)\n",
      "Requirement already satisfied: six>=1.5 in /usr/local/lib/python3.12/site-packages (from python-dateutil>=2.8.2->jupyter-client>=6.1.12->ipykernel>=6.5.0->jupyterlab<5.0.0a0,>=4.1.0->jupyterlab-lsp) (1.17.0)\n",
      "Requirement already satisfied: cffi>=1.0.1 in /usr/local/lib/python3.12/site-packages (from argon2-cffi-bindings->argon2-cffi>=21.1->jupyter-server>=1.1.2->jupyter-lsp>=2.0.0->jupyterlab-lsp) (1.17.1)\n",
      "Requirement already satisfied: soupsieve>1.2 in /usr/local/lib/python3.12/site-packages (from beautifulsoup4->nbconvert>=6.4.4->jupyter-server>=1.1.2->jupyter-lsp>=2.0.0->jupyterlab-lsp) (2.6)\n",
      "Requirement already satisfied: executing>=1.2.0 in /usr/local/lib/python3.12/site-packages (from stack_data->ipython>=7.23.1->ipykernel>=6.5.0->jupyterlab<5.0.0a0,>=4.1.0->jupyterlab-lsp) (2.1.0)\n",
      "Requirement already satisfied: asttokens>=2.1.0 in /usr/local/lib/python3.12/site-packages (from stack_data->ipython>=7.23.1->ipykernel>=6.5.0->jupyterlab<5.0.0a0,>=4.1.0->jupyterlab-lsp) (3.0.0)\n",
      "Requirement already satisfied: pure-eval in /usr/local/lib/python3.12/site-packages (from stack_data->ipython>=7.23.1->ipykernel>=6.5.0->jupyterlab<5.0.0a0,>=4.1.0->jupyterlab-lsp) (0.2.3)\n",
      "Requirement already satisfied: pycparser in /usr/local/lib/python3.12/site-packages (from cffi>=1.0.1->argon2-cffi-bindings->argon2-cffi>=21.1->jupyter-server>=1.1.2->jupyter-lsp>=2.0.0->jupyterlab-lsp) (2.22)\n",
      "Requirement already satisfied: arrow>=0.15.0 in /usr/local/lib/python3.12/site-packages (from isoduration->jsonschema[format-nongpl]>=4.18.0->jupyter-events>=0.11.0->jupyter-server>=1.1.2->jupyter-lsp>=2.0.0->jupyterlab-lsp) (1.3.0)\n",
      "Requirement already satisfied: types-python-dateutil>=2.8.10 in /usr/local/lib/python3.12/site-packages (from arrow>=0.15.0->isoduration->jsonschema[format-nongpl]>=4.18.0->jupyter-events>=0.11.0->jupyter-server>=1.1.2->jupyter-lsp>=2.0.0->jupyterlab-lsp) (2.9.0.20241206)\n",
      "Downloading jupyterlab_lsp-5.1.0-py3-none-any.whl (1.6 MB)\n",
      "\u001b[2K   \u001b[90m━━━━━━━━━━━━━━━━━━━━━━━━━━━━━━━━━━━━━━━━\u001b[0m \u001b[32m1.6/1.6 MB\u001b[0m \u001b[31m21.8 MB/s\u001b[0m eta \u001b[36m0:00:00\u001b[0m\n",
      "\u001b[?25hDownloading python_lsp_server-1.12.2-py3-none-any.whl (74 kB)\n",
      "Downloading pluggy-1.5.0-py3-none-any.whl (20 kB)\n",
      "Downloading python_lsp_jsonrpc-1.1.2-py3-none-any.whl (8.8 kB)\n",
      "Downloading ujson-5.10.0-cp312-cp312-manylinux_2_17_x86_64.manylinux2014_x86_64.whl (53 kB)\n",
      "Downloading docstring_to_markdown-0.15-py3-none-any.whl (21 kB)\n",
      "Installing collected packages: ujson, pluggy, docstring-to-markdown, python-lsp-jsonrpc, python-lsp-server, jupyterlab-lsp\n",
      "\u001b[33m  WARNING: The script pylsp is installed in '/home/jovyan/.local/bin' which is not on PATH.\n",
      "  Consider adding this directory to PATH or, if you prefer to suppress this warning, use --no-warn-script-location.\u001b[0m\u001b[33m\n",
      "\u001b[0mSuccessfully installed docstring-to-markdown-0.15 jupyterlab-lsp-5.1.0 pluggy-1.5.0 python-lsp-jsonrpc-1.1.2 python-lsp-server-1.12.2 ujson-5.10.0\n",
      "Defaulting to user installation because normal site-packages is not writeable\n",
      "Collecting python-lsp-ruff\n",
      "  Downloading python_lsp_ruff-2.2.2-py3-none-any.whl.metadata (6.3 kB)\n",
      "Collecting ruff>=0.2.0 (from python-lsp-ruff)\n",
      "  Downloading ruff-0.9.6-py3-none-manylinux_2_17_x86_64.manylinux2014_x86_64.whl.metadata (25 kB)\n",
      "Requirement already satisfied: python-lsp-server in ./.local/lib/python3.12/site-packages (from python-lsp-ruff) (1.12.2)\n",
      "Collecting cattrs!=23.2.1 (from python-lsp-ruff)\n",
      "  Downloading cattrs-24.1.2-py3-none-any.whl.metadata (8.4 kB)\n",
      "Collecting lsprotocol>=2023.0.1 (from python-lsp-ruff)\n",
      "  Downloading lsprotocol-2023.0.1-py3-none-any.whl.metadata (2.2 kB)\n",
      "Requirement already satisfied: attrs>=23.1.0 in /usr/local/lib/python3.12/site-packages (from cattrs!=23.2.1->python-lsp-ruff) (24.3.0)\n",
      "Requirement already satisfied: docstring-to-markdown in ./.local/lib/python3.12/site-packages (from python-lsp-server->python-lsp-ruff) (0.15)\n",
      "Requirement already satisfied: jedi<0.20.0,>=0.17.2 in /usr/local/lib/python3.12/site-packages (from python-lsp-server->python-lsp-ruff) (0.19.2)\n",
      "Requirement already satisfied: pluggy>=1.0.0 in ./.local/lib/python3.12/site-packages (from python-lsp-server->python-lsp-ruff) (1.5.0)\n",
      "Requirement already satisfied: python-lsp-jsonrpc<2.0.0,>=1.1.0 in ./.local/lib/python3.12/site-packages (from python-lsp-server->python-lsp-ruff) (1.1.2)\n",
      "Requirement already satisfied: ujson>=3.0.0 in ./.local/lib/python3.12/site-packages (from python-lsp-server->python-lsp-ruff) (5.10.0)\n",
      "Requirement already satisfied: parso<0.9.0,>=0.8.4 in /usr/local/lib/python3.12/site-packages (from jedi<0.20.0,>=0.17.2->python-lsp-server->python-lsp-ruff) (0.8.4)\n",
      "Downloading python_lsp_ruff-2.2.2-py3-none-any.whl (11 kB)\n",
      "Downloading cattrs-24.1.2-py3-none-any.whl (66 kB)\n",
      "Downloading lsprotocol-2023.0.1-py3-none-any.whl (70 kB)\n",
      "Downloading ruff-0.9.6-py3-none-manylinux_2_17_x86_64.manylinux2014_x86_64.whl (12.5 MB)\n",
      "\u001b[2K   \u001b[90m━━━━━━━━━━━━━━━━━━━━━━━━━━━━━━━━━━━━━━━━\u001b[0m \u001b[32m12.5/12.5 MB\u001b[0m \u001b[31m32.8 MB/s\u001b[0m eta \u001b[36m0:00:00\u001b[0m \u001b[36m0:00:01\u001b[0m\n",
      "\u001b[?25hInstalling collected packages: ruff, cattrs, lsprotocol, python-lsp-ruff\n",
      "Successfully installed cattrs-24.1.2 lsprotocol-2023.0.1 python-lsp-ruff-2.2.2 ruff-0.9.6\n"
     ]
    }
   ],
   "source": [
    "!pip install jupyterlab-lsp python-lsp-server\n",
    "!pip install python-lsp-ruff\n"
   ]
  },
  {
   "cell_type": "code",
   "execution_count": 3,
   "metadata": {},
   "outputs": [],
   "source": [
    "import numpy as np\n",
    "from sklearn.tree import DecisionTreeClassifier\n",
    "import mlflow\n",
    "\n",
    "import os"
   ]
  },
  {
   "cell_type": "code",
   "execution_count": 4,
   "metadata": {},
   "outputs": [],
   "source": [
    "x = np.array([[1,1], [1,2], [2,2], [2,3]])\n",
    "y = np.dot(x, np.array([1, 2])) + 3"
   ]
  },
  {
   "cell_type": "code",
   "execution_count": 7,
   "metadata": {},
   "outputs": [
    {
     "name": "stderr",
     "output_type": "stream",
     "text": [
      "2025/02/13 05:12:39 INFO mlflow.tracking.fluent: Experiment with name 'HelloMlFlow' does not exist. Creating a new experiment.\n"
     ]
    }
   ],
   "source": [
    "HOST = \"http://mlflow-tracking.default.svc.cluster.local:80\"\n",
    "EXPREIMENT_NAME = \"HelloMlFlow\"\n",
    "\n",
    "os.environ['MLFLOW_S3_ENDPOINT_URL'] = \"http://mlflow-minio.default.svc.cluster.local\"\n",
    "os.environ['AWS_REGION'] = 'ap-northeast-2'\n",
    "os.environ['AWS_BUCKET_NAME'] = 'dksshddl-data'\n",
    "os.environ['MLFLOW_TRACKING_USERNAME'] = 'user'\n",
    "os.environ['MLFLOW_TRACKING_PASSWORD'] = 'dRgxazTbSF'\n",
    "\n",
    "\n",
    "mlflow.set_tracking_uri(HOST)\n",
    "mlflow.set_experiment(EXPREIMENT_NAME)\n",
    "mlflow.sklearn.autolog()"
   ]
  },
  {
   "cell_type": "code",
   "execution_count": 8,
   "metadata": {},
   "outputs": [
    {
     "name": "stderr",
     "output_type": "stream",
     "text": [
      "/home/jovyan/.local/lib/python3.12/site-packages/sklearn/metrics/_classification.py:1565: UndefinedMetricWarning: Precision is ill-defined and being set to 0.0 in labels with no predicted samples. Use `zero_division` parameter to control this behavior.\n",
      "  _warn_prf(average, modifier, f\"{metric.capitalize()} is\", len(result))\n"
     ]
    },
    {
     "name": "stdout",
     "output_type": "stream",
     "text": [
      "🏃 View run fun-mare-398 at: http://mlflow-tracking.default.svc.cluster.local:80/#/experiments/1/runs/18bdf2912fff4a41b5ec39ac459eaf77\n",
      "🧪 View experiment at: http://mlflow-tracking.default.svc.cluster.local:80/#/experiments/1\n"
     ]
    }
   ],
   "source": [
    "model = DecisionTreeClassifier(max_depth=5, criterion='gini',min_samples_leaf = 3 ,min_samples_split = 10)\n",
    "with mlflow.start_run() as run:\n",
    "    model.fit(x, y)"
   ]
  },
  {
   "cell_type": "code",
   "execution_count": null,
   "metadata": {},
   "outputs": [],
   "source": []
  },
  {
   "cell_type": "code",
   "execution_count": null,
   "metadata": {},
   "outputs": [],
   "source": []
  },
  {
   "cell_type": "code",
   "execution_count": null,
   "metadata": {},
   "outputs": [],
   "source": []
  }
 ],
 "metadata": {
  "kernelspec": {
   "display_name": "Python 3 (ipykernel)",
   "language": "python",
   "name": "python3"
  }
 },
 "nbformat": 4,
 "nbformat_minor": 2
}
