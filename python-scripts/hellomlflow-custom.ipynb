{
 "cells": [
  {
   "cell_type": "code",
   "execution_count": 3,
   "metadata": {},
   "outputs": [],
   "source": [
    "import numpy as np\n",
    "from sklearn.tree import DecisionTreeClassifier\n",
    "import mlflow\n",
    "import os"
   ]
  },
  {
   "cell_type": "code",
   "execution_count": 4,
   "metadata": {},
   "outputs": [],
   "source": [
    "# mlflow_util.py\n",
    "import subprocess\n",
    "import os\n",
    "\n",
    "def get_git_revision_hash():\n",
    "    return subprocess.check_output(['git', 'rev-parse', 'HEAD'])\n",
    "\n",
    "def get_git_branch():\n",
    "    return subprocess.check_output(['git', 'branch', '--show-current'])\n",
    "\n",
    "def get_git_remote():\n",
    "    return subprocess.check_output(['git', 'config', '--get', 'remote.origin.url'])\n",
    "\n",
    "def get_pip_freeze():\n",
    "    return subprocess.check_output(['pip', 'freeze']).splitlines()\n",
    "\n",
    "new_line = bytes(\"\\n\", \"UTF-8\")\n",
    "\n",
    "def record_libraries(mlflow):\n",
    "    with open(\"pip_freeze.txt\", \"wb\") as file:\n",
    "        for line in get_pip_freeze():\n",
    "            file.write(line)\n",
    "            file.write(new_line)\n",
    "    file.close()\n",
    "    mlflow.log_artifact(\"pip_freeze.txt\")\n",
    "    os.remove(\"pip_freeze.txt\")\n",
    "    \n",
    "def log_metric(mlflow, metric_name, metric_value):\n",
    "    mlflow.tracking.fluent.log_metric(key=metric_name, value=metric_value)   \n",
    "    \n",
    "def log_param(mlflow, param_name, param_value):\n",
    "    mlflow.tracking.fluent.log_param(key=param_name, value=param_value)       "
   ]
  },
  {
   "cell_type": "markdown",
   "metadata": {},
   "source": [
    "## Prepare training data"
   ]
  },
  {
   "cell_type": "code",
   "execution_count": 5,
   "metadata": {},
   "outputs": [],
   "source": [
    "X = np.array([[1, 1], [1, 2], [2, 2], [2, 3]])\n",
    "y = np.dot(X, np.array([1, 2])) + 3"
   ]
  },
  {
   "cell_type": "markdown",
   "metadata": {},
   "source": [
    "## Setup Mlflow\n",
    "\n",
    "You will put the location of Mlflow server. Note that becuase your notebook and the Mlflow server is running on Kubernetes, we just put the location of Kubernetes Service.\n",
    "\n",
    "We are using our local Minio server as the S3 storage and therefore pass the variables named AWS_SECRET_ACCESS_KEY containing the password.\n",
    "\n",
    "## Experiment Name\n",
    "\n",
    "This is one important variable via which all of your experiment runs will be stored in the Mlflow server"
   ]
  },
  {
   "cell_type": "code",
   "execution_count": 6,
   "metadata": {},
   "outputs": [],
   "source": [
    "HOST = \"http://mlflow-tracking.default.svc.cluster.local:80\"\n",
    "EXPREIMENT_NAME = \"HelloMlFlow\"\n",
    "\n",
    "os.environ['MLFLOW_S3_ENDPOINT_URL'] = \"http://mlflow-minio.default.svc.cluster.local\"\n",
    "os.environ['AWS_REGION'] = 'ap-northeast-2'\n",
    "os.environ['AWS_BUCKET_NAME'] = 'dksshddl-data'\n",
    "os.environ['MLFLOW_TRACKING_USERNAME'] = 'user'\n",
    "os.environ['MLFLOW_TRACKING_PASSWORD'] = 'dRgxazTbSF'\n",
    "\n",
    "\n",
    "mlflow.set_tracking_uri(HOST)\n",
    "mlflow.set_experiment(EXPREIMENT_NAME)\n",
    "mlflow.sklearn.autolog()"
   ]
  },
  {
   "cell_type": "code",
   "execution_count": 12,
   "metadata": {},
   "outputs": [],
   "source": [
    "model = DecisionTreeClassifier(max_depth=5, criterion='gini',min_samples_leaf = 3 ,min_samples_split = 10)\n"
   ]
  },
  {
   "cell_type": "markdown",
   "metadata": {},
   "source": [
    "## Adding custom tags to the run\n",
    "\n",
    "Mlflow api allows to associate the custom tags as shown below.\n",
    "\n",
    "record_libraries is a custom function which runs the pip freeze command and store it as a file to the mlflow run. You can find this function in the associated mlflow_util class in this repo.\n",
    "\n",
    "log_metric and log_param are utility function that will store the provided parameters onto the mlflow. Note that log_metric takes a float as a value"
   ]
  },
  {
   "cell_type": "code",
   "execution_count": 15,
   "metadata": {},
   "outputs": [
    {
     "name": "stderr",
     "output_type": "stream",
     "text": [
      "/home/jovyan/.local/lib/python3.12/site-packages/sklearn/metrics/_classification.py:1565: UndefinedMetricWarning: Precision is ill-defined and being set to 0.0 in labels with no predicted samples. Use `zero_division` parameter to control this behavior.\n",
      "  _warn_prf(average, modifier, f\"{metric.capitalize()} is\", len(result))\n"
     ]
    },
    {
     "name": "stdout",
     "output_type": "stream",
     "text": [
      "🏃 View run overjoyed-deer-203 at: http://mlflow-tracking.default.svc.cluster.local:80/#/experiments/1/runs/1d777626e8264b56ad640983017ae03e\n",
      "🧪 View experiment at: http://mlflow-tracking.default.svc.cluster.local:80/#/experiments/1\n"
     ]
    }
   ],
   "source": [
    "with mlflow.start_run(tags={\n",
    "    \"hello\" : \"cjhyun\",\n",
    "    \"test\": \"tag\"\n",
    "    }) as run:\n",
    "    \n",
    "    model.fit(X, y)\n",
    "    record_libraries(mlflow)\n",
    "    log_metric(mlflow, \"custom_mteric\", 1.0)\n",
    "    log_param(mlflow, str.lower(\"MLFLOW_S3_ENDPOINT_URL\"), os.environ[\"MLFLOW_S3_ENDPOINT_URL\"])"
   ]
  },
  {
   "cell_type": "code",
   "execution_count": null,
   "metadata": {},
   "outputs": [],
   "source": []
  },
  {
   "cell_type": "code",
   "execution_count": 14,
   "metadata": {},
   "outputs": [
    {
     "name": "stdout",
     "output_type": "stream",
     "text": [
      "MLFLOW_POSTGRESQL_PORT_5432_TCP=tcp://172.20.57.198:5432\n",
      "SPARK_PI_UI_SVC_SERVICE_PORT=4040\n",
      "MINIO_FOR_MLOPS_CONSOLE_PORT_9090_TCP_PORT=9090\n",
      "SPARK_PI_UI_SVC_PORT=tcp://172.20.155.221:4040\n",
      "PROXY_PUBLIC_SERVICE_HOST=172.20.162.22\n",
      "KUBERNETES_SERVICE_PORT=443\n",
      "HUB_PORT=tcp://172.20.124.11:8081\n",
      "KUBERNETES_PORT=tcp://172.20.0.1:443\n",
      "HUB_SERVICE_PORT=8081\n",
      "MINIO_FOR_MLOPS_CONSOLE_PORT_9090_TCP_PROTO=tcp\n",
      "PROXY_API_PORT_8001_TCP_PORT=8001\n",
      "JUPYTERHUB_PUBLIC_URL=\n",
      "JUPYTERHUB_OAUTH_SCOPES=[\"access:servers!server=admin/\", \"access:servers!user=admin\"]\n",
      "PROXY_API_PORT_8001_TCP_PROTO=tcp\n",
      "MINIO_FOR_MLOPS_CONSOLE_PORT=tcp://172.20.226.193:9090\n",
      "MINIO_FOR_MLOPS_CONSOLE_SERVICE_PORT=9090\n",
      "MPLBACKEND=module://matplotlib_inline.backend_inline\n",
      "HOSTNAME=jupyter-admin\n",
      "JUPYTERHUB_HOST=\n",
      "MINIO_SERVICE_PORT=80\n",
      "MINIO_PORT=tcp://172.20.198.157:80\n",
      "MLFLOW_S3_ENDPOINT_URL=http://mlflow-minio.default.svc.cluster.local\n",
      "JUPYTERHUB_USER=admin\n",
      "MLFLOW_MINIO_PORT_9001_TCP_ADDR=172.20.200.162\n",
      "MLFLOW_TRACKING_PORT_80_TCP_ADDR=172.20.176.52\n",
      "HOME=/home/jovyan\n",
      "PROXY_API_SERVICE_HOST=172.20.60.9\n",
      "JUPYTERHUB_COOKIE_HOST_PREFIX_ENABLED=0\n",
      "JUPYTERHUB_SERVICE_URL=http://0.0.0.0:8888/user/admin/\n",
      "HUB_PORT_8081_TCP=tcp://172.20.124.11:8081\n",
      "HUB_SERVICE_PORT_HUB=8081\n",
      "JUPYTERHUB_OAUTH_CALLBACK_URL=/user/admin/oauth_callback\n",
      "JUPYTERHUB_API_URL=http://hub:8081/hub/api\n",
      "MLFLOW_MINIO_PORT_9001_TCP_PORT=9001\n",
      "PROXY_PUBLIC_PORT=tcp://172.20.162.22:80\n",
      "PROXY_PUBLIC_SERVICE_PORT=80\n",
      "MLFLOW_TRACKING_PORT_80_TCP_PORT=80\n",
      "GPG_KEY=7169605F62C751356D054A26A821E680E5FA6305\n",
      "JUPYTERHUB_PUBLIC_HUB_URL=\n",
      "MLFLOW_MINIO_PORT_9001_TCP_PROTO=tcp\n",
      "MLFLOW_TRACKING_PORT_80_TCP_PROTO=tcp\n",
      "PAGER=cat\n",
      "MLFLOW_TRACKING_USERNAME=user\n",
      "MINIO_FOR_MLOPS_CONSOLE_PORT_9090_TCP=tcp://172.20.226.193:9090\n",
      "MINIO_PORT_80_TCP_ADDR=172.20.198.157\n",
      "PYTHON_SHA256=c909157bb25ec114e5869124cc2a9c4a4d4c1e957ca4ff553f1edc692101154e\n",
      "PROXY_API_PORT_8001_TCP=tcp://172.20.60.9:8001\n",
      "MLFLOW_MINIO_SERVICE_HOST=172.20.200.162\n",
      "NB_USER=jovyan\n",
      "JUPYTER_IMAGE=quay.io/jupyterhub/k8s-singleuser-sample:4.1.0\n",
      "PROXY_API_PORT=tcp://172.20.60.9:8001\n",
      "MINIO_PORT_80_TCP_PORT=80\n",
      "PROXY_API_SERVICE_PORT=8001\n",
      "PROXY_PUBLIC_PORT_80_TCP_ADDR=172.20.162.22\n",
      "MINIO_PORT_80_TCP_PROTO=tcp\n",
      "FORCE_COLOR=1\n",
      "AWS_BUCKET_NAME=dksshddl-data\n",
      "JUPYTER_IMAGE_SPEC=quay.io/jupyterhub/k8s-singleuser-sample:4.1.0\n",
      "KEYCLOAK_SERVICE_PORT_HTTP=8080\n",
      "MLFLOW_MINIO_PORT_9001_TCP=tcp://172.20.200.162:9001\n",
      "MLFLOW_TRACKING_PORT_80_TCP=tcp://172.20.176.52:80\n",
      "PROXY_PUBLIC_PORT_80_TCP_PORT=80\n",
      "JUPYTERHUB_CLIENT_ID=jupyterhub-user-admin\n",
      "MLFLOW_MINIO_SERVICE_PORT=80\n",
      "PROXY_PUBLIC_PORT_80_TCP_PROTO=tcp\n",
      "MLFLOW_MINIO_PORT=tcp://172.20.200.162:80\n",
      "TERM=xterm-color\n",
      "KUBERNETES_PORT_443_TCP_ADDR=172.20.0.1\n",
      "PATH=/usr/local/bin:/usr/local/sbin:/usr/local/bin:/usr/sbin:/usr/bin:/sbin:/bin\n",
      "JUPYTERHUB_ACTIVITY_URL=http://hub:8081/hub/api/users/admin/activity\n",
      "KUBERNETES_PORT_443_TCP_PORT=443\n",
      "MINIO_PORT_80_TCP=tcp://172.20.198.157:80\n",
      "KUBERNETES_PORT_443_TCP_PROTO=tcp\n",
      "KMP_DUPLICATE_LIB_OK=True\n",
      "KMP_INIT_AT_FORK=FALSE\n",
      "LANG=C.UTF-8\n",
      "MLFLOW_TRACKING_SERVICE_PORT_HTTP=80\n",
      "KEYCLOAK_PORT_8080_TCP_ADDR=172.20.152.37\n",
      "KEYCLOAK_SERVICE_HOST=172.20.152.37\n",
      "MLFLOW_MINIO_PORT_80_TCP_ADDR=172.20.200.162\n",
      "JUPYTERHUB_OAUTH_ACCESS_SCOPES=[\"access:servers!server=admin/\", \"access:servers!user=admin\"]\n",
      "SPARK_PI_UI_SVC_PORT_4040_TCP_ADDR=172.20.155.221\n",
      "DEBIAN_FRONTEND=noninteractive\n",
      "MLFLOW_MINIO_SERVICE_PORT_MINIO_API=80\n",
      "PROXY_PUBLIC_PORT_80_TCP=tcp://172.20.162.22:80\n",
      "KEYCLOAK_PORT_8080_TCP_PORT=8080\n",
      "MLFLOW_POSTGRESQL_PORT_5432_TCP_ADDR=172.20.57.198\n",
      "MLFLOW_MINIO_PORT_80_TCP_PORT=80\n",
      "MLFLOW_MINIO_SERVICE_PORT_MINIO_CONSOLE=9001\n",
      "CLICOLOR_FORCE=1\n",
      "PYTHON_VERSION=3.12.8\n",
      "MLFLOW_MINIO_PORT_80_TCP_PROTO=tcp\n",
      "SPARK_PI_UI_SVC_PORT_4040_TCP_PORT=4040\n",
      "KEYCLOAK_PORT_8080_TCP_PROTO=tcp\n",
      "AWS_REGION=ap-northeast-2\n",
      "MLFLOW_TRACKING_PASSWORD=dRgxazTbSF\n",
      "MLFLOW_EXPERIMENT_ID=1\n",
      "JUPYTERHUB_OAUTH_CLIENT_ALLOWED_SCOPES=[]\n",
      "SPARK_PI_UI_SVC_PORT_4040_TCP_PROTO=tcp\n",
      "MLFLOW_POSTGRESQL_SERVICE_HOST=172.20.57.198\n",
      "JUPYTERHUB_ADMIN_ACCESS=1\n",
      "MINIO_FOR_MLOPS_CONSOLE_SERVICE_PORT_HTTP_CONSOLE=9090\n",
      "MLFLOW_POSTGRESQL_PORT_5432_TCP_PORT=5432\n",
      "JUPYTERHUB_SERVICE_PREFIX=/user/admin/\n",
      "KUBERNETES_PORT_443_TCP=tcp://172.20.0.1:443\n",
      "MLFLOW_POSTGRESQL_PORT_5432_TCP_PROTO=tcp\n",
      "KEYCLOAK_SERVICE_PORT=8080\n",
      "KEYCLOAK_PORT=tcp://172.20.152.37:8080\n",
      "MLFLOW_TRACKING_SERVICE_HOST=172.20.176.52\n",
      "KUBERNETES_SERVICE_PORT_HTTPS=443\n",
      "MLFLOW_TRACKING_URI=http://mlflow-tracking.default.svc.cluster.local:80\n",
      "SPARK_PI_UI_SVC_SERVICE_PORT_SPARK_DRIVER_UI_PORT=4040\n",
      "GIT_PAGER=cat\n",
      "JUPYTERHUB_API_TOKEN=6aeef7c1c6c04baba998cda20dc6e19b\n",
      "HUB_SERVICE_HOST=172.20.124.11\n",
      "KUBERNETES_SERVICE_HOST=172.20.0.1\n",
      "PROXY_PUBLIC_SERVICE_PORT_HTTP=80\n",
      "SPARK_PI_UI_SVC_SERVICE_HOST=172.20.155.221\n",
      "CLICOLOR=1\n",
      "PWD=/home/jovyan\n",
      "JUPYTERHUB_SERVER_NAME=\n",
      "MEM_GUARANTEE=1073741824\n",
      "JUPYTERHUB_BASE_URL=/\n",
      "HUB_PORT_8081_TCP_ADDR=172.20.124.11\n",
      "JPY_PARENT_PID=7\n",
      "MINIO_FOR_MLOPS_CONSOLE_SERVICE_HOST=172.20.226.193\n",
      "PYDEVD_USE_FRAME_EVAL=NO\n",
      "NB_UID=1000\n",
      "JPY_API_TOKEN=6aeef7c1c6c04baba998cda20dc6e19b\n",
      "MINIO_SERVICE_PORT_HTTP_MINIO=80\n",
      "KEYCLOAK_PORT_8080_TCP=tcp://172.20.152.37:8080\n",
      "MLFLOW_MINIO_PORT_80_TCP=tcp://172.20.200.162:80\n",
      "MINIO_SERVICE_HOST=172.20.198.157\n",
      "MLFLOW_POSTGRESQL_SERVICE_PORT=5432\n",
      "MLFLOW_POSTGRESQL_SERVICE_PORT_TCP_POSTGRESQL=5432\n",
      "MLFLOW_POSTGRESQL_PORT=tcp://172.20.57.198:5432\n",
      "JPY_SESSION_NAME=/home/jovyan/hellomlflow-custom-91171b6a-9127-4c3f-8700-36ac4350ef09.ipynb\n",
      "HUB_PORT_8081_TCP_PORT=8081\n",
      "SPARK_PI_UI_SVC_PORT_4040_TCP=tcp://172.20.155.221:4040\n",
      "MINIO_FOR_MLOPS_CONSOLE_PORT_9090_TCP_ADDR=172.20.226.193\n",
      "HUB_PORT_8081_TCP_PROTO=tcp\n",
      "MLFLOW_TRACKING_SERVICE_PORT=80\n",
      "PROXY_API_PORT_8001_TCP_ADDR=172.20.60.9\n",
      "MLFLOW_TRACKING_PORT=tcp://172.20.176.52:80\n"
     ]
    }
   ],
   "source": [
    "!env"
   ]
  },
  {
   "cell_type": "code",
   "execution_count": null,
   "metadata": {},
   "outputs": [],
   "source": []
  }
 ],
 "metadata": {
  "kernelspec": {
   "display_name": "Python 3 (ipykernel)",
   "language": "python",
   "name": "python3"
  }
 },
 "nbformat": 4,
 "nbformat_minor": 2
}
